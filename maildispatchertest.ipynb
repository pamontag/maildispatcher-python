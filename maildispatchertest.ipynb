{
 "cells": [
  {
   "cell_type": "code",
   "execution_count": 1,
   "metadata": {},
   "outputs": [
    {
     "name": "stdout",
     "output_type": "stream",
     "text": [
      "https://openaipamontagsweden.openai.azure.com/\n",
      "gpt4o\n",
      "maildispatcherdb\n"
     ]
    }
   ],
   "source": [
    "from dotenv import load_dotenv\n",
    "from tqdm.notebook import trange, tqdm\n",
    "from semantic_kernel import Kernel\n",
    "from semantic_kernel.connectors.ai.open_ai import AzureChatCompletion, OpenAIChatPromptExecutionSettings, AzureTextEmbedding\n",
    "from semantic_kernel.connectors.ai.chat_completion_client_base import ChatCompletionClientBase\n",
    "from semantic_kernel.contents import ChatHistory \n",
    "from semantic_kernel.core_plugins.text_memory_plugin import TextMemoryPlugin\n",
    "from semantic_kernel.memory.semantic_text_memory import ( MemoryQueryResult,\n",
    "    SemanticTextMemory,\n",
    ")\n",
    "from semantic_kernel.connectors.memory.azure_cosmosdb_no_sql import AzureCosmosDBNoSQLMemoryStore\n",
    "from azure.cosmos.aio import ContainerProxy, CosmosClient, DatabaseProxy\n",
    "\n",
    "import os\n",
    "import extract_msg\n",
    "import pandas as pd\n",
    "import csv\n",
    "from datetime import datetime\n",
    "import json\n",
    "import multiprocessing\n",
    "import concurrent.futures\n",
    "import time\n",
    "import asyncio\n",
    "\n",
    "\n",
    "# Load environment variables from .env file\n",
    "load_dotenv()\n",
    "AZURE_OPENAI_ENDPOINT = os.getenv(\"AZURE_OPENAI_ENDPOINT\")\n",
    "AZURE_OPENAI_CHAT_DEPLOYMENT_NAME = os.getenv(\"AZURE_OPENAI_CHAT_DEPLOYMENT_NAME\")\n",
    "COSMOS_CONNECTION_STRING = os.getenv(\"COSMOS_CONNECTION_STRING\")\n",
    "COSMOS_DATABASE = os.getenv(\"COSMOS_DATABASE_NAME\")\n",
    "COSMOS_COLLECTION = os.getenv(\"COSMOS_COLLECTION_NAME\")\n",
    "MSG_DATA_FOLDER_PATH = \"D:\\\\git\\\\MailDispatcher\\\\TestData\"\n",
    "MSG_TEST_FOLDER = \"TestData\"\n",
    "MSG_TESTRESULT_FOLDER = \"TestResults\"\n",
    "DEBUG = True\n",
    "print(AZURE_OPENAI_ENDPOINT)\n",
    "print(AZURE_OPENAI_CHAT_DEPLOYMENT_NAME)\n",
    "print(COSMOS_DATABASE)\n"
   ]
  },
  {
   "cell_type": "markdown",
   "metadata": {},
   "source": [
    "Prompt Collection"
   ]
  },
  {
   "cell_type": "code",
   "execution_count": 2,
   "metadata": {},
   "outputs": [],
   "source": [
    "PROMPT_AI=\"\"\"\n",
    "Sei un esperto smistatore di ticket a partire dal testo di una mail che deve analizzarne il suo contenuto e capire a quale gruppo di supporto inviare il ticket. \n",
    "Riceverai in input:\n",
    "- il testo di una mail in formato html\n",
    "- il titolo della mail\n",
    "\n",
    "In base al suo contenuto dovrai restituire solo e soltanto la mail alla quale ridirezionare il ticket. Le mail a disposizione sono le seguenti:\n",
    "- infrasupport@pippo.it\n",
    "- appsupport@pippo.it\n",
    "- databasesupport@pippo.it\n",
    "- UNKNOWN\n",
    "\n",
    "Scegli:\n",
    "- infrasupport@pippo.it se il contenuto o il titolo della mail hanno riferimenti a sistemi operativi, componenti hardware dei server, configurazioni dei server, patching e updates dei sistemi operativi e della pila software\n",
    "- appsupport@pippo.it se il contenuto o il titolo della mail hanno riferimenti a troubleshooting di una applicazione, problemi di performance, rallentamenti in produzione di una determinata applicazione, modifica di una configurazione di una applicazione, richiesta di estrazione dei log\n",
    "- databasesupport@pippo.it se il contenuto o il titolo della mail hanno riferimenti a una azione da eseguire su un database, aggiornamento degli indici di un database, analisi di performance delle queries, estrazione di dati da una tabella\n",
    "- UNKNOWN se non riesci a capire a quale gruppo di supporto inviare il ticket\n",
    "\n",
    "Devi restituire l'output in formato json che include la mail a cui ridirezionare il ticket nel campo mailToTestResult e il motivo della scelta nel campo reasoning che non DEVE includere virgole o altri caratteri che non siano alfanumerici. NON INCLUDERE ALTRO TESTO ALL'INFUORI DELLA MAIL.\n",
    "L'output che devi restituire è:\n",
    "{\n",
    "  \"\"mailToTestResult\"\": \"\"<mail a cui ridirezionare il ticket>\"\"\n",
    "  \"\"reasoning\"\": \"\"<motivazione della scelta>\"\"\n",
    "}\n",
    "\n",
    "Di seguito le informazioni su cui eseguire le analisi:\n",
    "\"\"\"\n",
    "\n",
    "PROMPT_EMBEDDING=\"\"\"\n",
    "Sei un esperto smistatore di ticket a partire dal testo di una mail che deve analizzarne il suo contenuto e capire a quale gruppo di supporto inviare il ticket. \n",
    "Riceverai in input:\n",
    "- il testo di una mail in formato html\n",
    "- il titolo della mail\n",
    "\n",
    "In base al suo contenuto dovrai restituire solo e soltanto la mail alla quale ridirezionare il ticket. Le mail a disposizione sono le seguenti:\n",
    "- infrasupport@pippo.it\n",
    "- appsupport@pippo.it\n",
    "- databasesupport@pippo.it\n",
    "- UNKNOWN\n",
    "\n",
    "Scegli:\n",
    "- infrasupport@pippo.it se il contenuto o il titolo della mail hanno riferimenti a sistemi operativi, componenti hardware dei server, configurazioni dei server, patching e updates dei sistemi operativi e della pila software\n",
    "- appsupport@pippo.it se il contenuto o il titolo della mail hanno riferimenti a troubleshooting di una applicazione, problemi di performance, rallentamenti in produzione di una determinata applicazione, modifica di una configurazione di una applicazione, richiesta di estrazione dei log\n",
    "- databasesupport@pippo.it se il contenuto o il titolo della mail hanno riferimenti a una azione da eseguire su un database, aggiornamento degli indici di un database, analisi di performance delle queries, estrazione di dati da una tabella\n",
    "- UNKNOWN se non riesci a capire a quale gruppo di supporto inviare il ticket\n",
    "\n",
    "Devi restituire l'output in formato json che include la mail a cui ridirezionare il ticket nel campo mailToTestResult e il motivo della scelta nel campo reasoning che non DEVE includere virgole o altri caratteri che non siano alfanumerici. NON INCLUDERE ALTRO TESTO ALL'INFUORI DELLA MAIL.\n",
    "L'output che devi restituire è:\n",
    "{\n",
    "  \"\"mailToTestResult\"\": \"\"<mail a cui ridirezionare il ticket>\"\"\n",
    "  \"\"reasoning\"\": \"\"<motivazione della scelta>\"\"\n",
    "}\n",
    "\n",
    "In aggiunta ti verrà fornito il risultato di una ricerca vettoriale di similarità e puoi aiutarti con quella per scegliere la mail a cui ridirezionare il ticket.\n",
    "\n",
    "Di seguito le informazioni su cui eseguire le analisi:\n",
    "\"\"\"\n"
   ]
  },
  {
   "cell_type": "markdown",
   "metadata": {},
   "source": [
    "Define common functions"
   ]
  },
  {
   "cell_type": "code",
   "execution_count": 3,
   "metadata": {},
   "outputs": [],
   "source": [
    "# Define functions\n",
    "def list_files_with_extension(folder, extension):\n",
    "    return [f for f in os.listdir(folder) if f.endswith(extension)]\n",
    "\n",
    "def load_msgs(folder_name):\n",
    "    file_collection = []\n",
    "    files = list_files_with_extension(folder_name, \".msg\")\n",
    "\n",
    "    # Iterate over each file\n",
    "    for file_name in files:\n",
    "        #debug(\"Processing msg: \", file_name)\n",
    "        file_path = os.path.join(folder_name, file_name)   \n",
    "        with extract_msg.openMsg(file_path) as msg:\n",
    "            file_collection.append({\"filename\": f\"{file_name}\", \"msgid\": f\"{msg.messageId}\", \"sender\": f\"{msg.sender}\", \"to\": f\"{msg.to}\", \"subject\": f\"{msg.subject}\", \"body\": f\"{msg.body}\", \"htmlbody\": f\"{msg.htmlBody}\"})   \n",
    "    return file_collection\n",
    "\n",
    "def debug(message):\n",
    "    if(DEBUG):\n",
    "        print(message)\n",
    "    \n",
    "\n"
   ]
  },
  {
   "cell_type": "markdown",
   "metadata": {},
   "source": [
    "Initalize SemanticKernel "
   ]
  },
  {
   "cell_type": "code",
   "execution_count": 16,
   "metadata": {},
   "outputs": [
    {
     "name": "stdout",
     "output_type": "stream",
     "text": [
      "Collection mailembeddings is present: True\n"
     ]
    }
   ],
   "source": [
    "chat_completion_service = AzureChatCompletion()\n",
    "embedding_service = AzureTextEmbedding(service_id=\"text_embedding\")   \n",
    "\n",
    "# Initialize the kernel\n",
    "kernel = Kernel()\n",
    "\n",
    "# Add the chat completion service created above to the kernel\n",
    "kernel.add_service(chat_completion_service)\n",
    "kernel.add_service(embedding_service)\n",
    "\n",
    "# Retrieve the chat completion service by type\n",
    "chat_completion_service = kernel.get_service(type=ChatCompletionClientBase)\n",
    "execution_settings = OpenAIChatPromptExecutionSettings(temperature=0, maxtokens=1000)\n",
    "# memory store\n",
    "#https://github.com/microsoft/semantic-kernel/blob/main/python/samples/concepts/memory/memory.py\n",
    "cosmosclient = CosmosClient.from_connection_string(COSMOS_CONNECTION_STRING)\n",
    "indexing_policy = {\n",
    "    \"vectorIndexes\": [\n",
    "        {\n",
    "            \"path\": \"/embedding\",\n",
    "            \"type\": \"diskANN\",\n",
    "            \"quantizationByteSize\": 96,\n",
    "            \"indexingSearchListSize\": 100\n",
    "        }\n",
    "    ]\n",
    "}\n",
    "vector_embedding_policy = { \n",
    "    \"vectorEmbeddings\": [ \n",
    "        { \n",
    "            \"path\": \"/embedding\", \n",
    "            \"dataType\": \"float32\", \n",
    "            \"distanceFunction\": \"cosine\", \n",
    "            \"dimensions\": 1536 \n",
    "        }\n",
    "    ]    \n",
    "}\n",
    "cosmos_container_properties = {\n",
    "      \"partition_key\": \"/key\"\n",
    "}\n",
    "noSqlMemoryStore = AzureCosmosDBNoSQLMemoryStore(cosmosclient, COSMOS_DATABASE, \"/key\", vector_embedding_policy, indexing_policy, cosmos_container_properties )\n",
    "await noSqlMemoryStore.create_collection(COSMOS_COLLECTION)\n",
    "collectionname = await noSqlMemoryStore.does_collection_exist(COSMOS_COLLECTION)\n",
    "print(f\"Collection {COSMOS_COLLECTION} is present: {collectionname}\")\n",
    "memory = SemanticTextMemory(storage=noSqlMemoryStore, embeddings_generator=kernel.get_service(\"text_embedding\"))\n",
    "\n",
    "async def get_correct_mail_from_msg(msg):\n",
    "    start = time.time()\n",
    "    chat_history = ChatHistory()\n",
    "    prompt = f\"\"\"{PROMPT_AI}\n",
    "    Titolo della mail: {msg.subject}\n",
    "    Contenuto della mail: {msg.body}\"\"\"\n",
    "\n",
    "    chat_history.add_user_message(prompt)\n",
    "\n",
    "    response = await chat_completion_service.get_chat_message_content(\n",
    "        chat_history=chat_history,\n",
    "        settings=execution_settings\n",
    "    )\n",
    "    end = time.time()\n",
    "    debug(f\"Execution time for {msg.msgid}: {(end-start) * 10**3} ms\")\n",
    "    debug(f\"Token consumption for {msg.msgid} - PromptTokens: {response.metadata[\"usage\"].prompt_tokens} CompletionTokens: {response.metadata[\"usage\"].completion_tokens}\")\n",
    "    return response \n",
    "\n",
    "async def get_embeddings(msg):\n",
    "    start = time.time()\n",
    "    embeddings = await memory.search(COSMOS_COLLECTION, f\"{msg.subject} {msg.body}\", limit=3)\n",
    "    end = time.time()\n",
    "    debug(f\"Execution time for {msg.msgid}: {(end-start) * 10**3} ms\")\n",
    "    return embeddings\n",
    "\n",
    "async def get_correct_mail_with_embeddings_from_msg(msg, embeddings):\n",
    "    start = time.time()\n",
    "    chat_history = ChatHistory()\n",
    "    prompt = f\"\"\"{PROMPT_AI}\n",
    "    Titolo della mail: {msg.subject}\n",
    "    Contenuto della mail: {msg.body}\n",
    "\n",
    "    E il risultato della ricerca vettoriale:\"\"\" \n",
    "    for results in embeddings:\n",
    "        prompt = f\"{prompt} \\n {results.description} - {results.relevance}\" \n",
    "    #debug(f\"Prompt: {prompt}\")\n",
    "    chat_history.add_user_message(prompt)\n",
    "\n",
    "    response = await chat_completion_service.get_chat_message_content(\n",
    "        chat_history=chat_history,\n",
    "        settings=execution_settings\n",
    "    )\n",
    "    end = time.time()\n",
    "    debug(f\"Execution time for {msg.msgid}: {(end-start) * 10**3} ms\")\n",
    "    debug(f\"Token consumption for {msg.msgid} - PromptTokens: {response.metadata[\"usage\"].prompt_tokens} CompletionTokens: {response.metadata[\"usage\"].completion_tokens}\")\n",
    "    return response "
   ]
  },
  {
   "cell_type": "markdown",
   "metadata": {},
   "source": [
    "Import email data into collection"
   ]
  },
  {
   "cell_type": "code",
   "execution_count": 5,
   "metadata": {},
   "outputs": [
    {
     "data": {
      "text/html": [
       "<div>\n",
       "<style scoped>\n",
       "    .dataframe tbody tr th:only-of-type {\n",
       "        vertical-align: middle;\n",
       "    }\n",
       "\n",
       "    .dataframe tbody tr th {\n",
       "        vertical-align: top;\n",
       "    }\n",
       "\n",
       "    .dataframe thead th {\n",
       "        text-align: right;\n",
       "    }\n",
       "</style>\n",
       "<table border=\"1\" class=\"dataframe\">\n",
       "  <thead>\n",
       "    <tr style=\"text-align: right;\">\n",
       "      <th></th>\n",
       "      <th>filename</th>\n",
       "      <th>msgid</th>\n",
       "      <th>subject</th>\n",
       "    </tr>\n",
       "  </thead>\n",
       "  <tbody>\n",
       "    <tr>\n",
       "      <th>0</th>\n",
       "      <td>RE_ Availability Confirmation for_ ENT _ Azure...</td>\n",
       "      <td>&lt;VI0PR83MB073893769A00EA779B6DF285E01B2@VI0PR8...</td>\n",
       "      <td>RE: Availability Confirmation for: ENT | Azure...</td>\n",
       "    </tr>\n",
       "    <tr>\n",
       "      <th>1</th>\n",
       "      <td>_ESTERNO_ Patching sistemi operativi su vm win...</td>\n",
       "      <td>&lt;CAFbA+2v9_r2o86dA3bS94mkNe9sv56y3LTaG3xAi0e9z...</td>\n",
       "      <td>[ESTERNO] Patching sistemi operativi su vm win...</td>\n",
       "    </tr>\n",
       "    <tr>\n",
       "      <th>2</th>\n",
       "      <td>_ESTERNO_ Rallentamenti sull'applicazione PDP.msg</td>\n",
       "      <td>&lt;CAFbA+2sdtxAOvfjofHXXs=L=+tZsAUQ3h9Q0QapZhEY4...</td>\n",
       "      <td>[ESTERNO] Rallentamenti sull'applicazione PDP</td>\n",
       "    </tr>\n",
       "    <tr>\n",
       "      <th>3</th>\n",
       "      <td>_ESTERNO_ Test messaggio mail dispatcher.msg</td>\n",
       "      <td>&lt;CAFbA+2t_3QLx3eKoYLGkDefoe6Y0GkuB8AhCwiWhq8bV...</td>\n",
       "      <td>[ESTERNO] Test messaggio mail dispatcher</td>\n",
       "    </tr>\n",
       "  </tbody>\n",
       "</table>\n",
       "</div>"
      ],
      "text/plain": [
       "                                            filename  \\\n",
       "0  RE_ Availability Confirmation for_ ENT _ Azure...   \n",
       "1  _ESTERNO_ Patching sistemi operativi su vm win...   \n",
       "2  _ESTERNO_ Rallentamenti sull'applicazione PDP.msg   \n",
       "3       _ESTERNO_ Test messaggio mail dispatcher.msg   \n",
       "\n",
       "                                               msgid  \\\n",
       "0  <VI0PR83MB073893769A00EA779B6DF285E01B2@VI0PR8...   \n",
       "1  <CAFbA+2v9_r2o86dA3bS94mkNe9sv56y3LTaG3xAi0e9z...   \n",
       "2  <CAFbA+2sdtxAOvfjofHXXs=L=+tZsAUQ3h9Q0QapZhEY4...   \n",
       "3  <CAFbA+2t_3QLx3eKoYLGkDefoe6Y0GkuB8AhCwiWhq8bV...   \n",
       "\n",
       "                                             subject  \n",
       "0  RE: Availability Confirmation for: ENT | Azure...  \n",
       "1  [ESTERNO] Patching sistemi operativi su vm win...  \n",
       "2      [ESTERNO] Rallentamenti sull'applicazione PDP  \n",
       "3           [ESTERNO] Test messaggio mail dispatcher  "
      ]
     },
     "execution_count": 5,
     "metadata": {},
     "output_type": "execute_result"
    }
   ],
   "source": [
    "msg_collection = load_msgs(MSG_DATA_FOLDER_PATH)\n",
    "pd.DataFrame(msg_collection, columns=[\"filename\", \"msgid\", \"subject\"])"
   ]
  },
  {
   "cell_type": "markdown",
   "metadata": {},
   "source": [
    "Init CSV Data for mapping msg with expected result (execute only ONE time if you have new test data)"
   ]
  },
  {
   "cell_type": "code",
   "execution_count": 7,
   "metadata": {},
   "outputs": [
    {
     "data": {
      "text/html": [
       "<div>\n",
       "<style scoped>\n",
       "    .dataframe tbody tr th:only-of-type {\n",
       "        vertical-align: middle;\n",
       "    }\n",
       "\n",
       "    .dataframe tbody tr th {\n",
       "        vertical-align: top;\n",
       "    }\n",
       "\n",
       "    .dataframe thead th {\n",
       "        text-align: right;\n",
       "    }\n",
       "</style>\n",
       "<table border=\"1\" class=\"dataframe\">\n",
       "  <thead>\n",
       "    <tr style=\"text-align: right;\">\n",
       "      <th></th>\n",
       "      <th>msgid</th>\n",
       "      <th>filename</th>\n",
       "      <th>expectedresult</th>\n",
       "      <th>result</th>\n",
       "      <th>testresult</th>\n",
       "      <th>reasoning</th>\n",
       "    </tr>\n",
       "  </thead>\n",
       "  <tbody>\n",
       "    <tr>\n",
       "      <th>0</th>\n",
       "      <td>&lt;VI0PR83MB073893769A00EA779B6DF285E01B2@VI0PR8...</td>\n",
       "      <td>RE_ Availability Confirmation for_ ENT _ Azure...</td>\n",
       "      <td>None</td>\n",
       "      <td>None</td>\n",
       "      <td>None</td>\n",
       "      <td>None</td>\n",
       "    </tr>\n",
       "    <tr>\n",
       "      <th>1</th>\n",
       "      <td>&lt;CAFbA+2v9_r2o86dA3bS94mkNe9sv56y3LTaG3xAi0e9z...</td>\n",
       "      <td>_ESTERNO_ Patching sistemi operativi su vm win...</td>\n",
       "      <td>None</td>\n",
       "      <td>None</td>\n",
       "      <td>None</td>\n",
       "      <td>None</td>\n",
       "    </tr>\n",
       "    <tr>\n",
       "      <th>2</th>\n",
       "      <td>&lt;CAFbA+2sdtxAOvfjofHXXs=L=+tZsAUQ3h9Q0QapZhEY4...</td>\n",
       "      <td>_ESTERNO_ Rallentamenti sull'applicazione PDP.msg</td>\n",
       "      <td>None</td>\n",
       "      <td>None</td>\n",
       "      <td>None</td>\n",
       "      <td>None</td>\n",
       "    </tr>\n",
       "    <tr>\n",
       "      <th>3</th>\n",
       "      <td>&lt;CAFbA+2t_3QLx3eKoYLGkDefoe6Y0GkuB8AhCwiWhq8bV...</td>\n",
       "      <td>_ESTERNO_ Test messaggio mail dispatcher.msg</td>\n",
       "      <td>None</td>\n",
       "      <td>None</td>\n",
       "      <td>None</td>\n",
       "      <td>None</td>\n",
       "    </tr>\n",
       "  </tbody>\n",
       "</table>\n",
       "</div>"
      ],
      "text/plain": [
       "                                               msgid  \\\n",
       "0  <VI0PR83MB073893769A00EA779B6DF285E01B2@VI0PR8...   \n",
       "1  <CAFbA+2v9_r2o86dA3bS94mkNe9sv56y3LTaG3xAi0e9z...   \n",
       "2  <CAFbA+2sdtxAOvfjofHXXs=L=+tZsAUQ3h9Q0QapZhEY4...   \n",
       "3  <CAFbA+2t_3QLx3eKoYLGkDefoe6Y0GkuB8AhCwiWhq8bV...   \n",
       "\n",
       "                                            filename expectedresult result  \\\n",
       "0  RE_ Availability Confirmation for_ ENT _ Azure...           None   None   \n",
       "1  _ESTERNO_ Patching sistemi operativi su vm win...           None   None   \n",
       "2  _ESTERNO_ Rallentamenti sull'applicazione PDP.msg           None   None   \n",
       "3       _ESTERNO_ Test messaggio mail dispatcher.msg           None   None   \n",
       "\n",
       "  testresult reasoning  \n",
       "0       None      None  \n",
       "1       None      None  \n",
       "2       None      None  \n",
       "3       None      None  "
      ]
     },
     "execution_count": 7,
     "metadata": {},
     "output_type": "execute_result"
    }
   ],
   "source": [
    "# take test collection and write to csv only field id, subject and an empty expected result field\n",
    "df = pd.DataFrame(msg_collection, columns=[\"msgid\", \"filename\"])\n",
    "df[\"expectedresult\"] = None\n",
    "df[\"result\"] = None\n",
    "df[\"testresult\"]   = None\n",
    "df[\"reasoning\"] = None\n",
    "df.to_csv(f\"{MSG_TEST_FOLDER}\\\\test_collection.csv\", mode='wb', index=False, quoting=csv.QUOTE_NONNUMERIC)\n",
    "df\n",
    "\n"
   ]
  },
  {
   "cell_type": "markdown",
   "metadata": {},
   "source": [
    "Merge Test Collection Data with msg mails"
   ]
  },
  {
   "cell_type": "code",
   "execution_count": 6,
   "metadata": {},
   "outputs": [
    {
     "data": {
      "text/html": [
       "<div>\n",
       "<style scoped>\n",
       "    .dataframe tbody tr th:only-of-type {\n",
       "        vertical-align: middle;\n",
       "    }\n",
       "\n",
       "    .dataframe tbody tr th {\n",
       "        vertical-align: top;\n",
       "    }\n",
       "\n",
       "    .dataframe thead th {\n",
       "        text-align: right;\n",
       "    }\n",
       "</style>\n",
       "<table border=\"1\" class=\"dataframe\">\n",
       "  <thead>\n",
       "    <tr style=\"text-align: right;\">\n",
       "      <th></th>\n",
       "      <th>filename</th>\n",
       "      <th>msgid</th>\n",
       "      <th>sender</th>\n",
       "      <th>to</th>\n",
       "      <th>subject</th>\n",
       "      <th>body</th>\n",
       "      <th>htmlbody</th>\n",
       "      <th>expectedresult</th>\n",
       "      <th>result</th>\n",
       "      <th>testresult</th>\n",
       "      <th>reasoning</th>\n",
       "    </tr>\n",
       "  </thead>\n",
       "  <tbody>\n",
       "    <tr>\n",
       "      <th>0</th>\n",
       "      <td>RE_ Availability Confirmation for_ ENT _ Azure...</td>\n",
       "      <td>&lt;VI0PR83MB073893769A00EA779B6DF285E01B2@VI0PR8...</td>\n",
       "      <td>\"Marius-Daniel Bortos (Majorel Muenster GmbH)\"...</td>\n",
       "      <td>Lorenzo Repichini &lt;lorenzo.repichini@microsoft...</td>\n",
       "      <td>RE: Availability Confirmation for: ENT | Azure...</td>\n",
       "      <td>None</td>\n",
       "      <td>b'&lt;html xmlns:v=\"urn:schemas-microsoft-com:vml...</td>\n",
       "      <td>UNKNOWN</td>\n",
       "      <td>&lt;NA&gt;</td>\n",
       "      <td>&lt;NA&gt;</td>\n",
       "      <td>&lt;NA&gt;</td>\n",
       "    </tr>\n",
       "    <tr>\n",
       "      <th>1</th>\n",
       "      <td>_ESTERNO_ Patching sistemi operativi su vm win...</td>\n",
       "      <td>&lt;CAFbA+2v9_r2o86dA3bS94mkNe9sv56y3LTaG3xAi0e9z...</td>\n",
       "      <td>Paolo Montagna &lt;paolomontagna@gmail.com&gt;</td>\n",
       "      <td>pamontag@microsoft.com</td>\n",
       "      <td>[ESTERNO] Patching sistemi operativi su vm win...</td>\n",
       "      <td>Si richiede con la presente il patching dei si...</td>\n",
       "      <td>b'&lt;div dir=\"ltr\"&gt;Si richiede con la presente i...</td>\n",
       "      <td>infrasupport@pippo.it</td>\n",
       "      <td>&lt;NA&gt;</td>\n",
       "      <td>&lt;NA&gt;</td>\n",
       "      <td>&lt;NA&gt;</td>\n",
       "    </tr>\n",
       "    <tr>\n",
       "      <th>2</th>\n",
       "      <td>_ESTERNO_ Rallentamenti sull'applicazione PDP.msg</td>\n",
       "      <td>&lt;CAFbA+2sdtxAOvfjofHXXs=L=+tZsAUQ3h9Q0QapZhEY4...</td>\n",
       "      <td>Paolo Montagna &lt;paolomontagna@gmail.com&gt;</td>\n",
       "      <td>pamontag@microsoft.com</td>\n",
       "      <td>[ESTERNO] Rallentamenti sull'applicazione PDP</td>\n",
       "      <td>L'applicazione PDP a partire dal giorno 5/1/20...</td>\n",
       "      <td>b'&lt;div dir=\"ltr\"&gt;L\\'applicazione PDP a partire...</td>\n",
       "      <td>appsupport@pippo.it</td>\n",
       "      <td>&lt;NA&gt;</td>\n",
       "      <td>&lt;NA&gt;</td>\n",
       "      <td>&lt;NA&gt;</td>\n",
       "    </tr>\n",
       "    <tr>\n",
       "      <th>3</th>\n",
       "      <td>_ESTERNO_ Test messaggio mail dispatcher.msg</td>\n",
       "      <td>&lt;CAFbA+2t_3QLx3eKoYLGkDefoe6Y0GkuB8AhCwiWhq8bV...</td>\n",
       "      <td>Paolo Montagna &lt;paolomontagna@gmail.com&gt;</td>\n",
       "      <td>pamontag@microsoft.com</td>\n",
       "      <td>[ESTERNO] Test messaggio mail dispatcher</td>\n",
       "      <td>Test messaggio test\\r\\n</td>\n",
       "      <td>b'&lt;div dir=\"ltr\"&gt;Test messaggio test&lt;/div&gt;\\n'</td>\n",
       "      <td>databasesupport@pippo.it</td>\n",
       "      <td>&lt;NA&gt;</td>\n",
       "      <td>&lt;NA&gt;</td>\n",
       "      <td>&lt;NA&gt;</td>\n",
       "    </tr>\n",
       "  </tbody>\n",
       "</table>\n",
       "</div>"
      ],
      "text/plain": [
       "                                            filename  \\\n",
       "0  RE_ Availability Confirmation for_ ENT _ Azure...   \n",
       "1  _ESTERNO_ Patching sistemi operativi su vm win...   \n",
       "2  _ESTERNO_ Rallentamenti sull'applicazione PDP.msg   \n",
       "3       _ESTERNO_ Test messaggio mail dispatcher.msg   \n",
       "\n",
       "                                               msgid  \\\n",
       "0  <VI0PR83MB073893769A00EA779B6DF285E01B2@VI0PR8...   \n",
       "1  <CAFbA+2v9_r2o86dA3bS94mkNe9sv56y3LTaG3xAi0e9z...   \n",
       "2  <CAFbA+2sdtxAOvfjofHXXs=L=+tZsAUQ3h9Q0QapZhEY4...   \n",
       "3  <CAFbA+2t_3QLx3eKoYLGkDefoe6Y0GkuB8AhCwiWhq8bV...   \n",
       "\n",
       "                                              sender  \\\n",
       "0  \"Marius-Daniel Bortos (Majorel Muenster GmbH)\"...   \n",
       "1           Paolo Montagna <paolomontagna@gmail.com>   \n",
       "2           Paolo Montagna <paolomontagna@gmail.com>   \n",
       "3           Paolo Montagna <paolomontagna@gmail.com>   \n",
       "\n",
       "                                                  to  \\\n",
       "0  Lorenzo Repichini <lorenzo.repichini@microsoft...   \n",
       "1                             pamontag@microsoft.com   \n",
       "2                             pamontag@microsoft.com   \n",
       "3                             pamontag@microsoft.com   \n",
       "\n",
       "                                             subject  \\\n",
       "0  RE: Availability Confirmation for: ENT | Azure...   \n",
       "1  [ESTERNO] Patching sistemi operativi su vm win...   \n",
       "2      [ESTERNO] Rallentamenti sull'applicazione PDP   \n",
       "3           [ESTERNO] Test messaggio mail dispatcher   \n",
       "\n",
       "                                                body  \\\n",
       "0                                               None   \n",
       "1  Si richiede con la presente il patching dei si...   \n",
       "2  L'applicazione PDP a partire dal giorno 5/1/20...   \n",
       "3                            Test messaggio test\\r\\n   \n",
       "\n",
       "                                            htmlbody  \\\n",
       "0  b'<html xmlns:v=\"urn:schemas-microsoft-com:vml...   \n",
       "1  b'<div dir=\"ltr\">Si richiede con la presente i...   \n",
       "2  b'<div dir=\"ltr\">L\\'applicazione PDP a partire...   \n",
       "3      b'<div dir=\"ltr\">Test messaggio test</div>\\n'   \n",
       "\n",
       "             expectedresult result testresult reasoning  \n",
       "0                   UNKNOWN   <NA>       <NA>      <NA>  \n",
       "1     infrasupport@pippo.it   <NA>       <NA>      <NA>  \n",
       "2       appsupport@pippo.it   <NA>       <NA>      <NA>  \n",
       "3  databasesupport@pippo.it   <NA>       <NA>      <NA>  "
      ]
     },
     "execution_count": 6,
     "metadata": {},
     "output_type": "execute_result"
    }
   ],
   "source": [
    "testdatadf = pd.read_csv(f\"{MSG_TEST_FOLDER}\\\\test_collection_data.csv\", dtype='string')\n",
    "df = pd.DataFrame(msg_collection)\n",
    "testdata_merged = df.merge(testdatadf[['msgid', 'expectedresult', 'result', 'testresult', 'reasoning']], on='msgid')\n",
    "testdata_merged.head()"
   ]
  },
  {
   "cell_type": "markdown",
   "metadata": {},
   "source": [
    "Init Container Data (only ONCE)"
   ]
  },
  {
   "cell_type": "code",
   "execution_count": 87,
   "metadata": {},
   "outputs": [
    {
     "name": "stderr",
     "output_type": "stream",
     "text": [
      "Unclosed client session\n",
      "client_session: <aiohttp.client.ClientSession object at 0x0000021FEEF3C2C0>\n",
      "Unclosed client session\n",
      "client_session: <aiohttp.client.ClientSession object at 0x0000021FEED65E20>\n",
      "Unclosed client session\n",
      "client_session: <aiohttp.client.ClientSession object at 0x0000021FEF6FF380>\n"
     ]
    },
    {
     "name": "stdout",
     "output_type": "stream",
     "text": [
      "{\"text\": \"[ESTERNO] Rallentamenti sull'applicazione PDP L'applicazione PDP a partire dal giorno 5/1/2025 sta rispondendo lentamente e gli utenti stanno contattando il supporto di primo livello.\\r\\nPotreste verificare?\\r\\n\", \"description\": \"appsupport@pippo.it\", \"additional_metadata\": null}\n",
      "0.392706056087505\n",
      "{\"text\": \"[ESTERNO] Patching sistemi operativi su vm winxaix2012a e winxaix2012b Si richiede con la presente il patching dei sistemi operativi sulle macchine virtuali winxaix2012a e winxaix2012b\\r\\nGrazie\\r\\n\", \"description\": \"infrasupport@pippo.it\", \"additional_metadata\": null}\n",
      "0.2970577786036232\n",
      "{\"text\": \"[ESTERNO] Test messaggio mail dispatcher Test messaggio test\\r\\n\", \"description\": \"databasesupport@pippo.it\", \"additional_metadata\": null}\n",
      "0.2895865890109621\n"
     ]
    }
   ],
   "source": [
    "# iterate over the testdata_merged and call memory.save_information with cosmos_collection, subject concatenated with body, msgid and expected result\n",
    "for index, row in testdata_merged.iterrows():\n",
    "    await memory.save_information(COSMOS_COLLECTION, f\"{row['subject']} {row['body']}\", row['msgid'], row['expectedresult'])\n",
    " \n"
   ]
  },
  {
   "cell_type": "markdown",
   "metadata": {},
   "source": [
    "Test Data with Prompt and Embeddings (Parallel Processing)"
   ]
  },
  {
   "cell_type": "code",
   "execution_count": 11,
   "metadata": {},
   "outputs": [
    {
     "name": "stdout",
     "output_type": "stream",
     "text": [
      "\"Executing on 8 CPUs\"\n"
     ]
    },
    {
     "data": {
      "application/vnd.jupyter.widget-view+json": {
       "model_id": "0ae80726e7db4103ba8ba8739410c946",
       "version_major": 2,
       "version_minor": 0
      },
      "text/plain": [
       "Processing msg data...:   0%|          | 0/4 [00:00<?, ?it/s]"
      ]
     },
     "metadata": {},
     "output_type": "display_data"
    },
    {
     "name": "stdout",
     "output_type": "stream",
     "text": [
      "Execution time for <CAFbA+2sdtxAOvfjofHXXs=L=+tZsAUQ3h9Q0QapZhEY4+Cbmnw@mail.gmail.com>: 645.5261707305908 ms\n",
      "Token consumption for <CAFbA+2sdtxAOvfjofHXXs=L=+tZsAUQ3h9Q0QapZhEY4+Cbmnw@mail.gmail.com> - PromptTokens: 521 CompletionTokens: 42\n",
      "Execution time for <CAFbA+2t_3QLx3eKoYLGkDefoe6Y0GkuB8AhCwiWhq8bVVCOzeg@mail.gmail.com>: 1258.7037086486816 ms\n",
      "Token consumption for <CAFbA+2t_3QLx3eKoYLGkDefoe6Y0GkuB8AhCwiWhq8bVVCOzeg@mail.gmail.com> - PromptTokens: 481 CompletionTokens: 125\n",
      "Execution time for <CAFbA+2v9_r2o86dA3bS94mkNe9sv56y3LTaG3xAi0e9zs3fDBw@mail.gmail.com>: 1337.0919227600098 ms\n",
      "Token consumption for <CAFbA+2v9_r2o86dA3bS94mkNe9sv56y3LTaG3xAi0e9zs3fDBw@mail.gmail.com> - PromptTokens: 526 CompletionTokens: 42\n",
      "Execution time for <VI0PR83MB073893769A00EA779B6DF285E01B2@VI0PR83MB0738.EURPRD83.prod.outlook.com>: 2665.137767791748 ms\n",
      "Token consumption for <VI0PR83MB073893769A00EA779B6DF285E01B2@VI0PR83MB0738.EURPRD83.prod.outlook.com> - PromptTokens: 498 CompletionTokens: 125\n",
      "Test Execution time: 2712.584972381592 ms\n"
     ]
    },
    {
     "data": {
      "text/html": [
       "<div>\n",
       "<style scoped>\n",
       "    .dataframe tbody tr th:only-of-type {\n",
       "        vertical-align: middle;\n",
       "    }\n",
       "\n",
       "    .dataframe tbody tr th {\n",
       "        vertical-align: top;\n",
       "    }\n",
       "\n",
       "    .dataframe thead th {\n",
       "        text-align: right;\n",
       "    }\n",
       "</style>\n",
       "<table border=\"1\" class=\"dataframe\">\n",
       "  <thead>\n",
       "    <tr style=\"text-align: right;\">\n",
       "      <th></th>\n",
       "      <th>msgid</th>\n",
       "      <th>filename</th>\n",
       "      <th>expectedresult</th>\n",
       "      <th>result</th>\n",
       "      <th>testresult</th>\n",
       "      <th>reasoning</th>\n",
       "    </tr>\n",
       "  </thead>\n",
       "  <tbody>\n",
       "    <tr>\n",
       "      <th>0</th>\n",
       "      <td>&lt;VI0PR83MB073893769A00EA779B6DF285E01B2@VI0PR8...</td>\n",
       "      <td>RE_ Availability Confirmation for_ ENT _ Azure...</td>\n",
       "      <td>UNKNOWN</td>\n",
       "      <td>UNKNOWN</td>\n",
       "      <td>PASSED</td>\n",
       "      <td>Il contenuto e il titolo della mail non conten...</td>\n",
       "    </tr>\n",
       "    <tr>\n",
       "      <th>1</th>\n",
       "      <td>&lt;CAFbA+2v9_r2o86dA3bS94mkNe9sv56y3LTaG3xAi0e9z...</td>\n",
       "      <td>_ESTERNO_ Patching sistemi operativi su vm win...</td>\n",
       "      <td>infrasupport@pippo.it</td>\n",
       "      <td>infrasupport@pippo.it</td>\n",
       "      <td>PASSED</td>\n",
       "      <td>Il titolo e il contenuto della mail fanno rife...</td>\n",
       "    </tr>\n",
       "    <tr>\n",
       "      <th>2</th>\n",
       "      <td>&lt;CAFbA+2sdtxAOvfjofHXXs=L=+tZsAUQ3h9Q0QapZhEY4...</td>\n",
       "      <td>_ESTERNO_ Rallentamenti sull'applicazione PDP.msg</td>\n",
       "      <td>appsupport@pippo.it</td>\n",
       "      <td>appsupport@pippo.it</td>\n",
       "      <td>PASSED</td>\n",
       "      <td>Il titolo e il contenuto della mail fanno rife...</td>\n",
       "    </tr>\n",
       "    <tr>\n",
       "      <th>3</th>\n",
       "      <td>&lt;CAFbA+2t_3QLx3eKoYLGkDefoe6Y0GkuB8AhCwiWhq8bV...</td>\n",
       "      <td>_ESTERNO_ Test messaggio mail dispatcher.msg</td>\n",
       "      <td>databasesupport@pippo.it</td>\n",
       "      <td>UNKNOWN</td>\n",
       "      <td>FAILED</td>\n",
       "      <td>Il contenuto e il titolo della mail non conten...</td>\n",
       "    </tr>\n",
       "  </tbody>\n",
       "</table>\n",
       "</div>"
      ],
      "text/plain": [
       "                                               msgid  \\\n",
       "0  <VI0PR83MB073893769A00EA779B6DF285E01B2@VI0PR8...   \n",
       "1  <CAFbA+2v9_r2o86dA3bS94mkNe9sv56y3LTaG3xAi0e9z...   \n",
       "2  <CAFbA+2sdtxAOvfjofHXXs=L=+tZsAUQ3h9Q0QapZhEY4...   \n",
       "3  <CAFbA+2t_3QLx3eKoYLGkDefoe6Y0GkuB8AhCwiWhq8bV...   \n",
       "\n",
       "                                            filename  \\\n",
       "0  RE_ Availability Confirmation for_ ENT _ Azure...   \n",
       "1  _ESTERNO_ Patching sistemi operativi su vm win...   \n",
       "2  _ESTERNO_ Rallentamenti sull'applicazione PDP.msg   \n",
       "3       _ESTERNO_ Test messaggio mail dispatcher.msg   \n",
       "\n",
       "             expectedresult                 result testresult  \\\n",
       "0                   UNKNOWN                UNKNOWN     PASSED   \n",
       "1     infrasupport@pippo.it  infrasupport@pippo.it     PASSED   \n",
       "2       appsupport@pippo.it    appsupport@pippo.it     PASSED   \n",
       "3  databasesupport@pippo.it                UNKNOWN     FAILED   \n",
       "\n",
       "                                           reasoning  \n",
       "0  Il contenuto e il titolo della mail non conten...  \n",
       "1  Il titolo e il contenuto della mail fanno rife...  \n",
       "2  Il titolo e il contenuto della mail fanno rife...  \n",
       "3  Il contenuto e il titolo della mail non conten...  "
      ]
     },
     "execution_count": 11,
     "metadata": {},
     "output_type": "execute_result"
    }
   ],
   "source": [
    "def run_async_method(index, row):\n",
    "    loop = asyncio.new_event_loop()\n",
    "    asyncio.set_event_loop(loop)\n",
    "    result = loop.run_until_complete(process_row(index, row))\n",
    "    loop.close()\n",
    "    return result\n",
    "\n",
    "async def process_row(index, row):    \n",
    "    jsonresult = await get_correct_mail_from_msg(row)\n",
    "    jsonresult = json.loads(jsonresult.content)\n",
    "    result = {\n",
    "        'index': index,\n",
    "        'result': jsonresult[\"mailToTestResult\"],\n",
    "        'testresult': \"PASSED\" if jsonresult[\"mailToTestResult\"] == row['expectedresult'] else \"FAILED\",\n",
    "        'reasoning': jsonresult[\"reasoning\"]\n",
    "    }\n",
    "    return result\n",
    "\n",
    "promptai_testdata = testdata_merged.copy(deep=True)\n",
    "\n",
    "# Get the number of CPUs\n",
    "num_cpus = multiprocessing.cpu_count()\n",
    "debug(f'\"Executing on {num_cpus} CPUs\"')\n",
    "start = time.time()\n",
    "\n",
    "with concurrent.futures.ThreadPoolExecutor(max_workers=num_cpus) as executor:\n",
    "    futures = list(executor.map(lambda x: run_async_method(*x), tqdm(promptai_testdata.iterrows(), total=promptai_testdata.shape[0], desc=\"Processing msg data...\")))\n",
    "    for result in futures:        \n",
    "        promptai_testdata.at[result['index'], 'result'] = result['result']\n",
    "        promptai_testdata.at[result['index'], 'testresult'] = result['testresult']\n",
    "        promptai_testdata.at[result['index'], 'reasoning'] = result['reasoning']\n",
    "end = time.time()\n",
    "debug(f\"Test Execution time: {(end-start) * 10**3} ms\")\n",
    "outputPromptAI = pd.DataFrame(promptai_testdata, columns=[\"msgid\", \"filename\", \"expectedresult\", \"result\", \"testresult\", \"reasoning\"])\n",
    "outputPromptAI.head()"
   ]
  },
  {
   "cell_type": "markdown",
   "metadata": {},
   "source": [
    "Test Results (Prompt)"
   ]
  },
  {
   "cell_type": "code",
   "execution_count": 8,
   "metadata": {},
   "outputs": [
    {
     "name": "stdout",
     "output_type": "stream",
     "text": [
      "Number of tests: 4\n"
     ]
    },
    {
     "data": {
      "text/plain": [
       "testresult\n",
       "PASSED    75.0%\n",
       "FAILED    25.0%\n",
       "Name: proportion, dtype: object"
      ]
     },
     "execution_count": 8,
     "metadata": {},
     "output_type": "execute_result"
    },
    {
     "data": {
      "image/png": "[encoded data removed]",
      "text/plain": [
       "<Figure size 640x480 with 1 Axes>"
      ]
     },
     "metadata": {},
     "output_type": "display_data"
    }
   ],
   "source": [
    "now = datetime.now()\n",
    "\n",
    "outputPromptAI.to_csv(f\"{MSG_TESTRESULT_FOLDER}\\\\test_promptai_{now.strftime('%Y%m%d%H%M%S')}.csv\", mode='wb', index=False, quoting=csv.QUOTE_NONNUMERIC)\n",
    "\n",
    "\n",
    "outputPromptAI.testresult.value_counts(normalize=True).plot(kind='pie', title='Test Results')\n",
    "row_count = len(outputPromptAI)\n",
    "print(f\"Number of tests: {row_count}\")\n",
    "outputPromptAI.testresult.value_counts(normalize=True).mul(100).round(1).astype(str) + '%'"
   ]
  },
  {
   "cell_type": "markdown",
   "metadata": {},
   "source": [
    "Test Data with Prompt and Embeddings (Parallel Processing)"
   ]
  },
  {
   "cell_type": "code",
   "execution_count": 17,
   "metadata": {},
   "outputs": [
    {
     "data": {
      "application/vnd.jupyter.widget-view+json": {
       "model_id": "b139d01ba66e4964b29ad8c44071bc7c",
       "version_major": 2,
       "version_minor": 0
      },
      "text/plain": [
       "Getting embeddings...:   0%|          | 0/4 [00:00<?, ?it/s]"
      ]
     },
     "metadata": {},
     "output_type": "display_data"
    },
    {
     "name": "stdout",
     "output_type": "stream",
     "text": [
      "Execution time for <VI0PR83MB073893769A00EA779B6DF285E01B2@VI0PR83MB0738.EURPRD83.prod.outlook.com>: 804.1224479675293 ms\n",
      "Execution time for <CAFbA+2v9_r2o86dA3bS94mkNe9sv56y3LTaG3xAi0e9zs3fDBw@mail.gmail.com>: 612.9109859466553 ms\n",
      "Execution time for <CAFbA+2sdtxAOvfjofHXXs=L=+tZsAUQ3h9Q0QapZhEY4+Cbmnw@mail.gmail.com>: 587.5992774963379 ms\n",
      "Execution time for <CAFbA+2t_3QLx3eKoYLGkDefoe6Y0GkuB8AhCwiWhq8bVVCOzeg@mail.gmail.com>: 535.1958274841309 ms\n"
     ]
    }
   ],
   "source": [
    "promptai_testdata = testdata_merged.copy(deep=True)\n",
    "# WARNING: IT IS NOT POSSIBLE TO CALL MEMORY SEARCH WITH ASYNCIO, SO WE NEED TO GET THE EMBEDDINGS BEFOREHAND\n",
    "# iterate over the promptai_testadata and call the function get_embeddings with the row data. Take the result and put into a dictionary with the msgid as key and the result as value\n",
    "embeddings = {}\n",
    "for index, row in tqdm(promptai_testdata.iterrows(), total=promptai_testdata.shape[0], desc=\"Getting embeddings...\"):\n",
    "    embeddings[row['msgid']] = await get_embeddings(row)"
   ]
  },
  {
   "cell_type": "code",
   "execution_count": 14,
   "metadata": {},
   "outputs": [
    {
     "name": "stdout",
     "output_type": "stream",
     "text": [
      "\"Executing on 8 CPUs\"\n"
     ]
    },
    {
     "data": {
      "application/vnd.jupyter.widget-view+json": {
       "model_id": "6a701745749044d7a9f3cf1a2c08fa97",
       "version_major": 2,
       "version_minor": 0
      },
      "text/plain": [
       "Processing msg data...:   0%|          | 0/4 [00:00<?, ?it/s]"
      ]
     },
     "metadata": {},
     "output_type": "display_data"
    },
    {
     "name": "stdout",
     "output_type": "stream",
     "text": [
      "Execution time for <CAFbA+2sdtxAOvfjofHXXs=L=+tZsAUQ3h9Q0QapZhEY4+Cbmnw@mail.gmail.com>: 723.3338356018066 ms\n",
      "Token consumption for <CAFbA+2sdtxAOvfjofHXXs=L=+tZsAUQ3h9Q0QapZhEY4+Cbmnw@mail.gmail.com> - PromptTokens: 578 CompletionTokens: 42\n",
      "Execution time for <CAFbA+2t_3QLx3eKoYLGkDefoe6Y0GkuB8AhCwiWhq8bVVCOzeg@mail.gmail.com>: 764.2605304718018 ms\n",
      "Token consumption for <CAFbA+2t_3QLx3eKoYLGkDefoe6Y0GkuB8AhCwiWhq8bVVCOzeg@mail.gmail.com> - PromptTokens: 537 CompletionTokens: 46\n",
      "Execution time for <CAFbA+2v9_r2o86dA3bS94mkNe9sv56y3LTaG3xAi0e9zs3fDBw@mail.gmail.com>: 1268.0590152740479 ms\n",
      "Token consumption for <CAFbA+2v9_r2o86dA3bS94mkNe9sv56y3LTaG3xAi0e9zs3fDBw@mail.gmail.com> - PromptTokens: 582 CompletionTokens: 42\n",
      "Execution time for <VI0PR83MB073893769A00EA779B6DF285E01B2@VI0PR83MB0738.EURPRD83.prod.outlook.com>: 1456.6304683685303 ms\n",
      "Token consumption for <VI0PR83MB073893769A00EA779B6DF285E01B2@VI0PR83MB0738.EURPRD83.prod.outlook.com> - PromptTokens: 549 CompletionTokens: 41\n",
      "Test Execution time: 1482.6016426086426 ms\n"
     ]
    },
    {
     "data": {
      "text/html": [
       "<div>\n",
       "<style scoped>\n",
       "    .dataframe tbody tr th:only-of-type {\n",
       "        vertical-align: middle;\n",
       "    }\n",
       "\n",
       "    .dataframe tbody tr th {\n",
       "        vertical-align: top;\n",
       "    }\n",
       "\n",
       "    .dataframe thead th {\n",
       "        text-align: right;\n",
       "    }\n",
       "</style>\n",
       "<table border=\"1\" class=\"dataframe\">\n",
       "  <thead>\n",
       "    <tr style=\"text-align: right;\">\n",
       "      <th></th>\n",
       "      <th>msgid</th>\n",
       "      <th>filename</th>\n",
       "      <th>expectedresult</th>\n",
       "      <th>result</th>\n",
       "      <th>testresult</th>\n",
       "      <th>reasoning</th>\n",
       "    </tr>\n",
       "  </thead>\n",
       "  <tbody>\n",
       "    <tr>\n",
       "      <th>0</th>\n",
       "      <td>&lt;VI0PR83MB073893769A00EA779B6DF285E01B2@VI0PR8...</td>\n",
       "      <td>RE_ Availability Confirmation for_ ENT _ Azure...</td>\n",
       "      <td>UNKNOWN</td>\n",
       "      <td>UNKNOWN</td>\n",
       "      <td>PASSED</td>\n",
       "      <td>Il contenuto della mail non fornisce informazi...</td>\n",
       "    </tr>\n",
       "    <tr>\n",
       "      <th>1</th>\n",
       "      <td>&lt;CAFbA+2v9_r2o86dA3bS94mkNe9sv56y3LTaG3xAi0e9z...</td>\n",
       "      <td>_ESTERNO_ Patching sistemi operativi su vm win...</td>\n",
       "      <td>infrasupport@pippo.it</td>\n",
       "      <td>infrasupport@pippo.it</td>\n",
       "      <td>PASSED</td>\n",
       "      <td>Il titolo e il contenuto della mail fanno rife...</td>\n",
       "    </tr>\n",
       "    <tr>\n",
       "      <th>2</th>\n",
       "      <td>&lt;CAFbA+2sdtxAOvfjofHXXs=L=+tZsAUQ3h9Q0QapZhEY4...</td>\n",
       "      <td>_ESTERNO_ Rallentamenti sull'applicazione PDP.msg</td>\n",
       "      <td>appsupport@pippo.it</td>\n",
       "      <td>appsupport@pippo.it</td>\n",
       "      <td>PASSED</td>\n",
       "      <td>Il titolo e il contenuto della mail fanno rife...</td>\n",
       "    </tr>\n",
       "    <tr>\n",
       "      <th>3</th>\n",
       "      <td>&lt;CAFbA+2t_3QLx3eKoYLGkDefoe6Y0GkuB8AhCwiWhq8bV...</td>\n",
       "      <td>_ESTERNO_ Test messaggio mail dispatcher.msg</td>\n",
       "      <td>databasesupport@pippo.it</td>\n",
       "      <td>databasesupport@pippo.it</td>\n",
       "      <td>PASSED</td>\n",
       "      <td>Il risultato della ricerca vettoriale indica d...</td>\n",
       "    </tr>\n",
       "  </tbody>\n",
       "</table>\n",
       "</div>"
      ],
      "text/plain": [
       "                                               msgid  \\\n",
       "0  <VI0PR83MB073893769A00EA779B6DF285E01B2@VI0PR8...   \n",
       "1  <CAFbA+2v9_r2o86dA3bS94mkNe9sv56y3LTaG3xAi0e9z...   \n",
       "2  <CAFbA+2sdtxAOvfjofHXXs=L=+tZsAUQ3h9Q0QapZhEY4...   \n",
       "3  <CAFbA+2t_3QLx3eKoYLGkDefoe6Y0GkuB8AhCwiWhq8bV...   \n",
       "\n",
       "                                            filename  \\\n",
       "0  RE_ Availability Confirmation for_ ENT _ Azure...   \n",
       "1  _ESTERNO_ Patching sistemi operativi su vm win...   \n",
       "2  _ESTERNO_ Rallentamenti sull'applicazione PDP.msg   \n",
       "3       _ESTERNO_ Test messaggio mail dispatcher.msg   \n",
       "\n",
       "             expectedresult                    result testresult  \\\n",
       "0                   UNKNOWN                   UNKNOWN     PASSED   \n",
       "1     infrasupport@pippo.it     infrasupport@pippo.it     PASSED   \n",
       "2       appsupport@pippo.it       appsupport@pippo.it     PASSED   \n",
       "3  databasesupport@pippo.it  databasesupport@pippo.it     PASSED   \n",
       "\n",
       "                                           reasoning  \n",
       "0  Il contenuto della mail non fornisce informazi...  \n",
       "1  Il titolo e il contenuto della mail fanno rife...  \n",
       "2  Il titolo e il contenuto della mail fanno rife...  \n",
       "3  Il risultato della ricerca vettoriale indica d...  "
      ]
     },
     "execution_count": 14,
     "metadata": {},
     "output_type": "execute_result"
    }
   ],
   "source": [
    "def run_async_method(index, row):\n",
    "    loop = asyncio.new_event_loop()\n",
    "    asyncio.set_event_loop(loop)\n",
    "    result = loop.run_until_complete(process_row(index, row))\n",
    "    loop.close()\n",
    "    return result\n",
    "\n",
    "async def process_row(index, row): \n",
    "    jsonresult = await get_correct_mail_with_embeddings_from_msg(row,embeddings[row['msgid']])\n",
    "    jsonresult = json.loads(jsonresult.content)\n",
    "    result = {\n",
    "        'index': index,\n",
    "        'result': jsonresult[\"mailToTestResult\"],\n",
    "        'testresult': \"PASSED\" if jsonresult[\"mailToTestResult\"] == row['expectedresult'] else \"FAILED\",\n",
    "        'reasoning': jsonresult[\"reasoning\"]\n",
    "    }\n",
    "    return result\n",
    "\n",
    "# Get the number of CPUs\n",
    "num_cpus = multiprocessing.cpu_count()\n",
    "debug(f'\"Executing on {num_cpus} CPUs\"')\n",
    "start = time.time()\n",
    "\n",
    "with concurrent.futures.ThreadPoolExecutor(max_workers=num_cpus) as executor:\n",
    "    futures = list(executor.map(lambda x: run_async_method(*x), tqdm(promptai_testdata.iterrows(), total=promptai_testdata.shape[0], desc=\"Processing msg data...\")))\n",
    "    for result in futures:        \n",
    "        promptai_testdata.at[result['index'], 'result'] = result['result']\n",
    "        promptai_testdata.at[result['index'], 'testresult'] = result['testresult']\n",
    "        promptai_testdata.at[result['index'], 'reasoning'] = result['reasoning']\n",
    "end = time.time()\n",
    "debug(f\"Test Execution time: {(end-start) * 10**3} ms\")\n",
    "outputPromptEmbeddings = pd.DataFrame(promptai_testdata, columns=[\"msgid\", \"filename\", \"expectedresult\", \"result\", \"testresult\", \"reasoning\"])\n",
    "outputPromptEmbeddings.head()"
   ]
  },
  {
   "cell_type": "markdown",
   "metadata": {},
   "source": [
    "Test Results (Prompt with Embeddings)"
   ]
  },
  {
   "cell_type": "code",
   "execution_count": 11,
   "metadata": {},
   "outputs": [
    {
     "name": "stdout",
     "output_type": "stream",
     "text": [
      "Number of tests: 4\n"
     ]
    },
    {
     "data": {
      "text/plain": [
       "testresult\n",
       "PASSED    100.0%\n",
       "Name: proportion, dtype: object"
      ]
     },
     "execution_count": 11,
     "metadata": {},
     "output_type": "execute_result"
    },
    {
     "data": {
      "image/png": "[encoded data removed]",
      "text/plain": [
       "<Figure size 640x480 with 1 Axes>"
      ]
     },
     "metadata": {},
     "output_type": "display_data"
    }
   ],
   "source": [
    "now = datetime.now()\n",
    "\n",
    "outputPromptEmbeddings.to_csv(f\"{MSG_TESTRESULT_FOLDER}\\\\test_embeddings_{now.strftime('%Y%m%d%H%M%S')}.csv\", mode='wb', index=False, quoting=csv.QUOTE_NONNUMERIC)\n",
    "\n",
    "\n",
    "outputPromptEmbeddings.testresult.value_counts(normalize=True).plot(kind='pie', title='Test Results')\n",
    "row_count = len(outputPromptEmbeddings)\n",
    "print(f\"Number of tests: {row_count}\")\n",
    "outputPromptEmbeddings.testresult.value_counts(normalize=True).mul(100).round(1).astype(str) + '%'"
   ]
  }
 ],
 "metadata": {
  "kernelspec": {
   "display_name": ".venv",
   "language": "python",
   "name": "python3"
  },
  "language_info": {
   "codemirror_mode": {
    "name": "ipython",
    "version": 3
   },
   "file_extension": ".py",
   "mimetype": "text/x-python",
   "name": "python",
   "nbconvert_exporter": "python",
   "pygments_lexer": "ipython3",
   "version": "3.12.8"
  }
 },
 "nbformat": 4,
 "nbformat_minor": 2
}
